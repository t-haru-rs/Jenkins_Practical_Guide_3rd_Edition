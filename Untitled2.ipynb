{
  "nbformat": 4,
  "nbformat_minor": 0,
  "metadata": {
    "colab": {
      "name": "Untitled0.ipynb",
      "provenance": [],
      "collapsed_sections": [],
      "authorship_tag": "ABX9TyNEetvtzxQ8Fq4MYhnZXpCp",
      "include_colab_link": true
    },
    "kernelspec": {
      "name": "python3",
      "display_name": "Python 3"
    },
    "accelerator": "GPU"
  },
  "cells": [
    {
      "cell_type": "markdown",
      "metadata": {
        "id": "view-in-github",
        "colab_type": "text"
      },
      "source": [
        "<a href=\"https://colab.research.google.com/github/t-haru-rs/Jenkins_Practical_Guide_3rd_Edition/blob/master/Untitled2.ipynb\" target=\"_parent\"><img src=\"https://colab.research.google.com/assets/colab-badge.svg\" alt=\"Open In Colab\"/></a>"
      ]
    },
    {
      "cell_type": "code",
      "metadata": {
        "colab": {
          "base_uri": "https://localhost:8080/",
          "height": 35
        },
        "id": "0kwNfG9J9OCz",
        "outputId": "21a46750-2e0b-40b8-829c-d6a08012201d"
      },
      "source": [
        "import torch\n",
        "torch.cuda.get_device_name(0)\n"
      ],
      "execution_count": null,
      "outputs": [
        {
          "output_type": "execute_result",
          "data": {
            "application/vnd.google.colaboratory.intrinsic+json": {
              "type": "string"
            },
            "text/plain": [
              "'Tesla T4'"
            ]
          },
          "metadata": {
            "tags": []
          },
          "execution_count": 1
        }
      ]
    },
    {
      "cell_type": "code",
      "metadata": {
        "colab": {
          "base_uri": "https://localhost:8080/"
        },
        "id": "Z-HLUBb-CwsV",
        "outputId": "9f6161a2-e49b-4e58-cc1d-6f3f899f59b9"
      },
      "source": [
        "# study_nn\r\n",
        "# summary   :   Study as Nurel Network.\r\n",
        "# reference :   https://www.1101.com/morikawa/index_AI.html\r\n",
        "# result    :   16 inputs　\r\n",
        "# author    :   obuchi\r\n",
        "\r\n",
        "import sys\r\n",
        "import os\r\n",
        "import PySimpleGUI as sg\r\n",
        "\r\n",
        "# Array for hold training data. And set initial data.\r\n",
        "okashi = [[1,0], [3,0], [4,0]]\r\n",
        "\r\n",
        "\r\n",
        "a = 4       # threshold\r\n",
        "\r\n",
        "# Function for choice\r\n",
        "def okashi_choice(choice):\r\n",
        "    try:\r\n",
        "        # Declaration global variable\r\n",
        "        global okashi\r\n",
        "        global a\r\n",
        "\r\n",
        "        total = 0   # total value\r\n",
        "\r\n",
        "        # Array initialization (okashi status)\r\n",
        "        for i2 in range(3):\r\n",
        "            okashi[i2][1] = 0\r\n",
        "\r\n",
        "        # okashi status update\r\n",
        "        for i in choice:\r\n",
        "            if i == 'a':\r\n",
        "                total = total + okashi[0][0]\r\n",
        "                okashi[0][1] = 1\r\n",
        "            elif i == 'b':\r\n",
        "                total = total + okashi[1][0]\r\n",
        "                okashi[1][1] = 1\r\n",
        "            elif i == 'c':\r\n",
        "                total = total + okashi[2][0]\r\n",
        "                okashi[2][1] = 1\r\n",
        "\r\n",
        "        # Compare with treshold.\r\n",
        "        if total <= a:\r\n",
        "            print('OK !')\r\n",
        "            print('Treshold:{}, total:{}'. format(a, total))\r\n",
        "        elif total > a:\r\n",
        "            print('NG !')\r\n",
        "            print('treshold:{}, total:{}'. format(a, total))\r\n",
        "\r\n",
        "    except:\r\n",
        "        exc_type, exc_obj, exc_tb = sys.exc_info()\r\n",
        "        file_name = os.path.split( exc_tb.tb_frame.f_code.co_filename )[1]\r\n",
        "        error_msg =  '<< ERROR >>\\n'\r\n",
        "        error_msg += '[  Type  ]>> ' + str(exc_type) + '\\n'\r\n",
        "        error_msg += '[ Object ]>> ' + str(exc_obj) + '\\n'\r\n",
        "        error_msg += '[  File  ]>> ' + str(file_name) + '\\n'\r\n",
        "        error_msg += '[  Line  ]>> ' + str(exc_tb.tb_lineno)\r\n",
        "        print(error_msg)\r\n",
        "\r\n",
        "\r\n",
        "# Function for training\r\n",
        "def study(ans):\r\n",
        "    try:\r\n",
        "        # Declaration global variable\r\n",
        "        global okashi\r\n",
        "        global a\r\n",
        "\r\n",
        "        # Parameter update.\r\n",
        "        if ans == 2:                      # Really correct, but judged to NG.\r\n",
        "            for i in range(3):\r\n",
        "                if okashi[i][1] == 1:\r\n",
        "                    okashi[i][0] -= 1\r\n",
        "            a += 1\r\n",
        "\r\n",
        "        if ans == 3:                      # Really wrong, but judged to correct.\r\n",
        "            for i in range(3):\r\n",
        "                if okashi[i][1] == 1:\r\n",
        "                    okashi[i][0] += 1\r\n",
        "            a -= 1\r\n",
        "\r\n",
        "        message = 'A:' + str(a) + ' B:' + str(okashi[0][0]) + ' C:' + str(okashi[1][0]) + ' D:' + str(okashi[2][0])\r\n",
        "        print(message)\r\n",
        "\r\n",
        "    except:\r\n",
        "        exc_type, exc_obj, exc_tb = sys.exc_info()\r\n",
        "        file_name = os.path.split( exc_tb.tb_frame.f_code.co_filename )[1]\r\n",
        "        error_msg =  '<< ERROR >>\\n'\r\n",
        "        error_msg += '[  Type  ]>> ' + str(exc_type) + '\\n'\r\n",
        "        error_msg += '[ Object ]>> ' + str(exc_obj) + '\\n'\r\n",
        "        error_msg += '[  File  ]>> ' + str(file_name) + '\\n'\r\n",
        "        error_msg += '[  Line  ]>> ' + str(exc_tb.tb_lineno)\r\n",
        "        print(error_msg)\r\n",
        "\r\n",
        "\r\n",
        "\r\n",
        "# == Display layout==\r\n",
        "\r\n",
        "# layout of window\r\n",
        "layout = [\r\n",
        "    [sg.Text('お菓子の買い方を学習するAI')],\r\n",
        "    [sg.Text('使い方')],\r\n",
        "    [sg.Text('[1] お菓子(a,b,c)を選んで「判定」を押す.　例: abc')],\r\n",
        "    [sg.Text('[2] 答え(1~3)を教えて「学習」を押す.')],\r\n",
        "    #[sg.Text('お菓子を選んで ! お菓子 a,b,c:', size=(30, 1)), sg.InputText('', size=(15,1), key='okashi'), sg.Button('判定', key='check')],\r\n",
        "    [sg.Text('お菓子を選んで !', size=(15, 1)), sg.Checkbox('お菓子A', size=(8,1), key='A'), sg.Checkbox('お菓子B', size=(8,1), key='B'), sg.Checkbox('お菓子C', size=(8,1), key='C'), sg.Button('判定', key='check')],\r\n",
        "    [sg.Text('答えを教えて！', size=(15,1)), sg.Button('正解', size=(10,1), key='ans1'), sg.Button('本当はOK', size=(10,1), key='ans2'), sg.Button('本当はNG', size=(10,1), key='ans3')],\r\n",
        "    [sg.Output(size=(60,5))]\r\n",
        "]\r\n",
        "\r\n",
        "# make a window object\r\n",
        "window = sg.Window('お菓子のAI', layout)\r\n",
        "\r\n",
        "# loop the event\r\n",
        "while True:\r\n",
        "    # Read the event\r\n",
        "    event, values = window.read()\r\n",
        "\r\n",
        "    # If push [x], close the window\r\n",
        "    if event == sg.WIN_CLOSED:\r\n",
        "        break\r\n",
        "\r\n",
        "    if event == 'check':\r\n",
        "        print('====================')\r\n",
        "        checked = ''\r\n",
        "        if values['A'] == True:\r\n",
        "            checked += 'a'\r\n",
        "        if values['B'] == True:\r\n",
        "            checked += 'b'\r\n",
        "        if values['C'] == True:\r\n",
        "            checked += 'c'\r\n",
        "\r\n",
        "        okashi_choice(checked)\r\n",
        "\r\n",
        "    if event == 'ans1':\r\n",
        "        print('正解')\r\n",
        "        study(1)\r\n",
        "    \r\n",
        "    if event == 'ans2':\r\n",
        "        print('本当はOK')\r\n",
        "        study(2)\r\n",
        "\r\n",
        "    if event == 'ans3':\r\n",
        "        print('本当はNG')\r\n",
        "        study(3)\r\n",
        "        \r\n",
        "# end of window\r\n",
        "window.close()"
      ],
      "execution_count": null,
      "outputs": [
        {
          "output_type": "stream",
          "text": [
            "test2\n"
          ],
          "name": "stdout"
        }
      ]
    }
  ]
}